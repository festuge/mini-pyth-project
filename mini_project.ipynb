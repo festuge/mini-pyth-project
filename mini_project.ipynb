{
  "nbformat": 4,
  "nbformat_minor": 0,
  "metadata": {
    "colab": {
      "provenance": [],
      "authorship_tag": "ABX9TyM9NGwM5Ky6EubJzJhu/eiA",
      "include_colab_link": true
    },
    "kernelspec": {
      "name": "python3",
      "display_name": "Python 3"
    },
    "language_info": {
      "name": "python"
    }
  },
  "cells": [
    {
      "cell_type": "markdown",
      "metadata": {
        "id": "view-in-github",
        "colab_type": "text"
      },
      "source": [
        "<a href=\"https://colab.research.google.com/github/festuge/mini-pyth-project/blob/main/mini_project.ipynb\" target=\"_parent\"><img src=\"https://colab.research.google.com/assets/colab-badge.svg\" alt=\"Open In Colab\"/></a>"
      ]
    },
    {
      "cell_type": "code",
      "execution_count": null,
      "metadata": {
        "id": "ab_DsG97NKNj"
      },
      "outputs": [],
      "source": []
    },
    {
      "cell_type": "markdown",
      "source": [
        "Project.1 \n",
        "You are working for etech consulting as a python programmer. A new project for a bank system just came and the team manager asked you to write a python script that will calculate the total amount due for a loan after borrowing amount amt for n months with an interest rate of r%\n",
        "the formula for compound interest rate calculation is:...\n",
        "where p is the starting principle amount. for example, if you borrowed $10000 for 36 months at an interest rate of 5%"
      ],
      "metadata": {
        "id": "cE-SPbhjNPVV"
      }
    },
    {
      "cell_type": "code",
      "source": [
        "#Mini project 1\n",
        "# variables; P, r, n\n",
        "# intermediate variables: total_amount\n",
        "# auxilary variables: power, rate_sum, raised\n",
        "\n",
        "P = 10000\n",
        "r = 5/100\n",
        "n = 36\n",
        "\n",
        "# auxilary variables: power, rate_sum, raised\n",
        "power = n/12\n",
        "rate_sum = 1 + r\n",
        "raised = rate_sum**power\n",
        "\n",
        "#intermediate variables: Total_amount\n",
        "#Total_amount = P * (1+r)**(n/12)\n",
        "Total_amount = P * raised\n",
        "\n",
        "print(Total_amount)"
      ],
      "metadata": {
        "colab": {
          "base_uri": "https://localhost:8080/"
        },
        "id": "0a4FoUb0O7gu",
        "outputId": "52218eed-0adf-4ce3-c7ce-0ada487ba58e"
      },
      "execution_count": 1,
      "outputs": [
        {
          "output_type": "stream",
          "name": "stdout",
          "text": [
            "11576.250000000002\n"
          ]
        }
      ]
    },
    {
      "cell_type": "markdown",
      "source": [
        "A construction firm hired you to implement a python code that allows them accurately know the value of the area of circular shapes when constructing houses, write the python script to allow them get that done.\n",
        "The area of the circle is pi times the radius squared(A = pi radius **2)\n",
        "where pi = 3.14 to 2 decimal places"
      ],
      "metadata": {
        "id": "Syhbs1aIa298"
      }
    },
    {
      "cell_type": "code",
      "source": [
        "#class solution\n",
        "\n",
        "#variable: PI, r\n",
        "PI = 3.14\n",
        "r = 5 #assuming the sample circular shape is having a radius of 2\n",
        "POWER = 2\n",
        "#Auxilary variable: raised, power\n",
        "raised = r ** POWER\n",
        "#intermediary variables: Area\n",
        "Area = PI * raised\n",
        "print(Area)"
      ],
      "metadata": {
        "colab": {
          "base_uri": "https://localhost:8080/"
        },
        "id": "-Cz8REzidf4a",
        "outputId": "1b9c6f81-55c9-492d-cf8b-2f5a77db8a9b"
      },
      "execution_count": 5,
      "outputs": [
        {
          "output_type": "stream",
          "name": "stdout",
          "text": [
            "78.5\n"
          ]
        }
      ]
    },
    {
      "cell_type": "markdown",
      "source": [
        "Assignment 1: A hospital is in need of a smart vitals measuring device. In this project, your team lead has assigned you the task to build the python script to calculate temperature measurement of patients. However, the sensors measure in fahrenheit, but the doctors need the results in degree celcius. Write the python script to convert from fahrenheit to celcius reading. the equation for the relationship is:\n",
        "celcius to fahrenheit convertion formula:\n",
        "F = C * 9/5 + 32"
      ],
      "metadata": {
        "id": "sn2fYMHNhsV_"
      }
    },
    {
      "cell_type": "code",
      "source": [
        "# Solution assignment one\n",
        "F = 30 #possible degrees in fahrenheit\n",
        "division = 5/9\n",
        "c = F - 32 * division\n",
        "print(c)"
      ],
      "metadata": {
        "colab": {
          "base_uri": "https://localhost:8080/"
        },
        "id": "6cciLoaMi-j3",
        "outputId": "24f5dc73-3930-432e-d569-ce1cf3b47a91"
      },
      "execution_count": 17,
      "outputs": [
        {
          "output_type": "stream",
          "name": "stdout",
          "text": [
            "12.222222222222221\n"
          ]
        }
      ]
    },
    {
      "cell_type": "code",
      "source": [],
      "metadata": {
        "id": "TD5YAjmOqxVq"
      },
      "execution_count": null,
      "outputs": []
    }
  ]
}